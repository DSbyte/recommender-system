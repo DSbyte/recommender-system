{
  "nbformat": 4,
  "nbformat_minor": 0,
  "metadata": {
    "colab": {
      "name": "Amazon-Recommender.ipynb",
      "provenance": [],
      "collapsed_sections": [],
      "include_colab_link": true
    },
    "kernelspec": {
      "name": "python3",
      "display_name": "Python 3"
    },
    "language_info": {
      "name": "python"
    },
    "widgets": {
      "application/vnd.jupyter.widget-state+json": {
        "fccb0745a5ad4b1d96ad73952d69a830": {
          "model_module": "@jupyter-widgets/controls",
          "model_name": "HBoxModel",
          "state": {
            "_view_name": "HBoxView",
            "_dom_classes": [],
            "_model_name": "HBoxModel",
            "_view_module": "@jupyter-widgets/controls",
            "_model_module_version": "1.5.0",
            "_view_count": null,
            "_view_module_version": "1.5.0",
            "box_style": "",
            "layout": "IPY_MODEL_54f767092f8148fe8690d6dfb153c7c8",
            "_model_module": "@jupyter-widgets/controls",
            "children": [
              "IPY_MODEL_90aeb00194554e3c93e85bda3aa26947",
              "IPY_MODEL_b2174770d9064db283f08f33bdd01b36"
            ]
          }
        },
        "54f767092f8148fe8690d6dfb153c7c8": {
          "model_module": "@jupyter-widgets/base",
          "model_name": "LayoutModel",
          "state": {
            "_view_name": "LayoutView",
            "grid_template_rows": null,
            "right": null,
            "justify_content": null,
            "_view_module": "@jupyter-widgets/base",
            "overflow": null,
            "_model_module_version": "1.2.0",
            "_view_count": null,
            "flex_flow": null,
            "width": null,
            "min_width": null,
            "border": null,
            "align_items": null,
            "bottom": null,
            "_model_module": "@jupyter-widgets/base",
            "top": null,
            "grid_column": null,
            "overflow_y": null,
            "overflow_x": null,
            "grid_auto_flow": null,
            "grid_area": null,
            "grid_template_columns": null,
            "flex": null,
            "_model_name": "LayoutModel",
            "justify_items": null,
            "grid_row": null,
            "max_height": null,
            "align_content": null,
            "visibility": null,
            "align_self": null,
            "height": null,
            "min_height": null,
            "padding": null,
            "grid_auto_rows": null,
            "grid_gap": null,
            "max_width": null,
            "order": null,
            "_view_module_version": "1.2.0",
            "grid_template_areas": null,
            "object_position": null,
            "object_fit": null,
            "grid_auto_columns": null,
            "margin": null,
            "display": null,
            "left": null
          }
        },
        "90aeb00194554e3c93e85bda3aa26947": {
          "model_module": "@jupyter-widgets/controls",
          "model_name": "FloatProgressModel",
          "state": {
            "_view_name": "ProgressView",
            "style": "IPY_MODEL_87b3e8b78fbb416ea4975bbcc5805755",
            "_dom_classes": [],
            "description": "epochs:   0%",
            "_model_name": "FloatProgressModel",
            "bar_style": "danger",
            "max": 5000,
            "_view_module": "@jupyter-widgets/controls",
            "_model_module_version": "1.5.0",
            "value": 0,
            "_view_count": null,
            "_view_module_version": "1.5.0",
            "orientation": "horizontal",
            "min": 0,
            "description_tooltip": null,
            "_model_module": "@jupyter-widgets/controls",
            "layout": "IPY_MODEL_e0d7f3405c0649c5a60951a622375214"
          }
        },
        "b2174770d9064db283f08f33bdd01b36": {
          "model_module": "@jupyter-widgets/controls",
          "model_name": "HTMLModel",
          "state": {
            "_view_name": "HTMLView",
            "style": "IPY_MODEL_3bf3fbe19bea4004b6f5cadba7c99afc",
            "_dom_classes": [],
            "description": "",
            "_model_name": "HTMLModel",
            "placeholder": "​",
            "_view_module": "@jupyter-widgets/controls",
            "_model_module_version": "1.5.0",
            "value": " 0/5000 [00:37&lt;?, ?ep/s]",
            "_view_count": null,
            "_view_module_version": "1.5.0",
            "description_tooltip": null,
            "_model_module": "@jupyter-widgets/controls",
            "layout": "IPY_MODEL_ac022326627846289350b037b275b86f"
          }
        },
        "87b3e8b78fbb416ea4975bbcc5805755": {
          "model_module": "@jupyter-widgets/controls",
          "model_name": "ProgressStyleModel",
          "state": {
            "_view_name": "StyleView",
            "_model_name": "ProgressStyleModel",
            "description_width": "initial",
            "_view_module": "@jupyter-widgets/base",
            "_model_module_version": "1.5.0",
            "_view_count": null,
            "_view_module_version": "1.2.0",
            "bar_color": null,
            "_model_module": "@jupyter-widgets/controls"
          }
        },
        "e0d7f3405c0649c5a60951a622375214": {
          "model_module": "@jupyter-widgets/base",
          "model_name": "LayoutModel",
          "state": {
            "_view_name": "LayoutView",
            "grid_template_rows": null,
            "right": null,
            "justify_content": null,
            "_view_module": "@jupyter-widgets/base",
            "overflow": null,
            "_model_module_version": "1.2.0",
            "_view_count": null,
            "flex_flow": null,
            "width": null,
            "min_width": null,
            "border": null,
            "align_items": null,
            "bottom": null,
            "_model_module": "@jupyter-widgets/base",
            "top": null,
            "grid_column": null,
            "overflow_y": null,
            "overflow_x": null,
            "grid_auto_flow": null,
            "grid_area": null,
            "grid_template_columns": null,
            "flex": null,
            "_model_name": "LayoutModel",
            "justify_items": null,
            "grid_row": null,
            "max_height": null,
            "align_content": null,
            "visibility": null,
            "align_self": null,
            "height": null,
            "min_height": null,
            "padding": null,
            "grid_auto_rows": null,
            "grid_gap": null,
            "max_width": null,
            "order": null,
            "_view_module_version": "1.2.0",
            "grid_template_areas": null,
            "object_position": null,
            "object_fit": null,
            "grid_auto_columns": null,
            "margin": null,
            "display": null,
            "left": null
          }
        },
        "3bf3fbe19bea4004b6f5cadba7c99afc": {
          "model_module": "@jupyter-widgets/controls",
          "model_name": "DescriptionStyleModel",
          "state": {
            "_view_name": "StyleView",
            "_model_name": "DescriptionStyleModel",
            "description_width": "",
            "_view_module": "@jupyter-widgets/base",
            "_model_module_version": "1.5.0",
            "_view_count": null,
            "_view_module_version": "1.2.0",
            "_model_module": "@jupyter-widgets/controls"
          }
        },
        "ac022326627846289350b037b275b86f": {
          "model_module": "@jupyter-widgets/base",
          "model_name": "LayoutModel",
          "state": {
            "_view_name": "LayoutView",
            "grid_template_rows": null,
            "right": null,
            "justify_content": null,
            "_view_module": "@jupyter-widgets/base",
            "overflow": null,
            "_model_module_version": "1.2.0",
            "_view_count": null,
            "flex_flow": null,
            "width": null,
            "min_width": null,
            "border": null,
            "align_items": null,
            "bottom": null,
            "_model_module": "@jupyter-widgets/base",
            "top": null,
            "grid_column": null,
            "overflow_y": null,
            "overflow_x": null,
            "grid_auto_flow": null,
            "grid_area": null,
            "grid_template_columns": null,
            "flex": null,
            "_model_name": "LayoutModel",
            "justify_items": null,
            "grid_row": null,
            "max_height": null,
            "align_content": null,
            "visibility": null,
            "align_self": null,
            "height": null,
            "min_height": null,
            "padding": null,
            "grid_auto_rows": null,
            "grid_gap": null,
            "max_width": null,
            "order": null,
            "_view_module_version": "1.2.0",
            "grid_template_areas": null,
            "object_position": null,
            "object_fit": null,
            "grid_auto_columns": null,
            "margin": null,
            "display": null,
            "left": null
          }
        },
        "63f16d7a999647b7adedccd0884cdab2": {
          "model_module": "@jupyter-widgets/controls",
          "model_name": "HBoxModel",
          "state": {
            "_view_name": "HBoxView",
            "_dom_classes": [],
            "_model_name": "HBoxModel",
            "_view_module": "@jupyter-widgets/controls",
            "_model_module_version": "1.5.0",
            "_view_count": null,
            "_view_module_version": "1.5.0",
            "box_style": "",
            "layout": "IPY_MODEL_4cfa588385ef4e89905186316e5a514d",
            "_model_module": "@jupyter-widgets/controls",
            "children": [
              "IPY_MODEL_16daa66c8be94727a00134477fbc2855",
              "IPY_MODEL_a39fdb2379c54a59a343040738fd9f6c"
            ]
          }
        },
        "4cfa588385ef4e89905186316e5a514d": {
          "model_module": "@jupyter-widgets/base",
          "model_name": "LayoutModel",
          "state": {
            "_view_name": "LayoutView",
            "grid_template_rows": null,
            "right": null,
            "justify_content": null,
            "_view_module": "@jupyter-widgets/base",
            "overflow": null,
            "_model_module_version": "1.2.0",
            "_view_count": null,
            "flex_flow": null,
            "width": null,
            "min_width": null,
            "border": null,
            "align_items": null,
            "bottom": null,
            "_model_module": "@jupyter-widgets/base",
            "top": null,
            "grid_column": null,
            "overflow_y": null,
            "overflow_x": null,
            "grid_auto_flow": null,
            "grid_area": null,
            "grid_template_columns": null,
            "flex": null,
            "_model_name": "LayoutModel",
            "justify_items": null,
            "grid_row": null,
            "max_height": null,
            "align_content": null,
            "visibility": null,
            "align_self": null,
            "height": null,
            "min_height": null,
            "padding": null,
            "grid_auto_rows": null,
            "grid_gap": null,
            "max_width": null,
            "order": null,
            "_view_module_version": "1.2.0",
            "grid_template_areas": null,
            "object_position": null,
            "object_fit": null,
            "grid_auto_columns": null,
            "margin": null,
            "display": null,
            "left": null
          }
        },
        "16daa66c8be94727a00134477fbc2855": {
          "model_module": "@jupyter-widgets/controls",
          "model_name": "FloatProgressModel",
          "state": {
            "_view_name": "ProgressView",
            "style": "IPY_MODEL_1e9dff329eb548d3811977c68203242e",
            "_dom_classes": [],
            "description": "train iter:   1%",
            "_model_name": "FloatProgressModel",
            "bar_style": "danger",
            "max": 195612,
            "_view_module": "@jupyter-widgets/controls",
            "_model_module_version": "1.5.0",
            "value": 1611,
            "_view_count": null,
            "_view_module_version": "1.5.0",
            "orientation": "horizontal",
            "min": 0,
            "description_tooltip": null,
            "_model_module": "@jupyter-widgets/controls",
            "layout": "IPY_MODEL_eac806a00bfe499984afdc73e3825740"
          }
        },
        "a39fdb2379c54a59a343040738fd9f6c": {
          "model_module": "@jupyter-widgets/controls",
          "model_name": "HTMLModel",
          "state": {
            "_view_name": "HTMLView",
            "style": "IPY_MODEL_cf26a9160a93496ea697c2bcb71bc735",
            "_dom_classes": [],
            "description": "",
            "_model_name": "HTMLModel",
            "placeholder": "​",
            "_view_module": "@jupyter-widgets/controls",
            "_model_module_version": "1.5.0",
            "value": " 1611/195612 [00:53&lt;1:13:02, 44.26it/s, loss=4.1]",
            "_view_count": null,
            "_view_module_version": "1.5.0",
            "description_tooltip": null,
            "_model_module": "@jupyter-widgets/controls",
            "layout": "IPY_MODEL_57f469429fbf42729c1a5ea1a8e5bfc4"
          }
        },
        "1e9dff329eb548d3811977c68203242e": {
          "model_module": "@jupyter-widgets/controls",
          "model_name": "ProgressStyleModel",
          "state": {
            "_view_name": "StyleView",
            "_model_name": "ProgressStyleModel",
            "description_width": "initial",
            "_view_module": "@jupyter-widgets/base",
            "_model_module_version": "1.5.0",
            "_view_count": null,
            "_view_module_version": "1.2.0",
            "bar_color": null,
            "_model_module": "@jupyter-widgets/controls"
          }
        },
        "eac806a00bfe499984afdc73e3825740": {
          "model_module": "@jupyter-widgets/base",
          "model_name": "LayoutModel",
          "state": {
            "_view_name": "LayoutView",
            "grid_template_rows": null,
            "right": null,
            "justify_content": null,
            "_view_module": "@jupyter-widgets/base",
            "overflow": null,
            "_model_module_version": "1.2.0",
            "_view_count": null,
            "flex_flow": null,
            "width": null,
            "min_width": null,
            "border": null,
            "align_items": null,
            "bottom": null,
            "_model_module": "@jupyter-widgets/base",
            "top": null,
            "grid_column": null,
            "overflow_y": null,
            "overflow_x": null,
            "grid_auto_flow": null,
            "grid_area": null,
            "grid_template_columns": null,
            "flex": null,
            "_model_name": "LayoutModel",
            "justify_items": null,
            "grid_row": null,
            "max_height": null,
            "align_content": null,
            "visibility": null,
            "align_self": null,
            "height": null,
            "min_height": null,
            "padding": null,
            "grid_auto_rows": null,
            "grid_gap": null,
            "max_width": null,
            "order": null,
            "_view_module_version": "1.2.0",
            "grid_template_areas": null,
            "object_position": null,
            "object_fit": null,
            "grid_auto_columns": null,
            "margin": null,
            "display": null,
            "left": null
          }
        },
        "cf26a9160a93496ea697c2bcb71bc735": {
          "model_module": "@jupyter-widgets/controls",
          "model_name": "DescriptionStyleModel",
          "state": {
            "_view_name": "StyleView",
            "_model_name": "DescriptionStyleModel",
            "description_width": "",
            "_view_module": "@jupyter-widgets/base",
            "_model_module_version": "1.5.0",
            "_view_count": null,
            "_view_module_version": "1.2.0",
            "_model_module": "@jupyter-widgets/controls"
          }
        },
        "57f469429fbf42729c1a5ea1a8e5bfc4": {
          "model_module": "@jupyter-widgets/base",
          "model_name": "LayoutModel",
          "state": {
            "_view_name": "LayoutView",
            "grid_template_rows": null,
            "right": null,
            "justify_content": null,
            "_view_module": "@jupyter-widgets/base",
            "overflow": null,
            "_model_module_version": "1.2.0",
            "_view_count": null,
            "flex_flow": null,
            "width": null,
            "min_width": null,
            "border": null,
            "align_items": null,
            "bottom": null,
            "_model_module": "@jupyter-widgets/base",
            "top": null,
            "grid_column": null,
            "overflow_y": null,
            "overflow_x": null,
            "grid_auto_flow": null,
            "grid_area": null,
            "grid_template_columns": null,
            "flex": null,
            "_model_name": "LayoutModel",
            "justify_items": null,
            "grid_row": null,
            "max_height": null,
            "align_content": null,
            "visibility": null,
            "align_self": null,
            "height": null,
            "min_height": null,
            "padding": null,
            "grid_auto_rows": null,
            "grid_gap": null,
            "max_width": null,
            "order": null,
            "_view_module_version": "1.2.0",
            "grid_template_areas": null,
            "object_position": null,
            "object_fit": null,
            "grid_auto_columns": null,
            "margin": null,
            "display": null,
            "left": null
          }
        }
      }
    },
    "accelerator": "GPU"
  },
  "cells": [
    {
      "cell_type": "markdown",
      "metadata": {
        "id": "view-in-github",
        "colab_type": "text"
      },
      "source": [
        "<a href=\"https://colab.research.google.com/github/DSbyte/recommender-system/blob/main/Amazon_Recommender.ipynb\" target=\"_parent\"><img src=\"https://colab.research.google.com/assets/colab-badge.svg\" alt=\"Open In Colab\"/></a>"
      ]
    },
    {
      "cell_type": "markdown",
      "metadata": {
        "id": "9PrvBDMOjgsV"
      },
      "source": [
        "\n",
        "\n",
        "Recommendation System: Amazon Products\n",
        "\n",
        "\n"
      ]
    },
    {
      "cell_type": "code",
      "metadata": {
        "id": "4yASK5k9jf1d"
      },
      "source": [
        "from collections import Counter\n",
        "from google.colab import drive\n",
        "from torch import nn, optim\n",
        "from tqdm.auto import tqdm\n",
        "import torch, torchtext, numpy as np\n",
        "import pandas as pd, csv\n",
        "import matplotlib.pyplot as plt\n",
        "import pdb\n",
        "\n",
        "torch.manual_seed(291)\n",
        "np.random.seed(291)"
      ],
      "execution_count": 1,
      "outputs": []
    },
    {
      "cell_type": "code",
      "metadata": {
        "colab": {
          "base_uri": "https://localhost:8080/"
        },
        "id": "eGHaTILQj2jS",
        "outputId": "4020a485-7ecd-4cd8-ad1e-530c217e49f2"
      },
      "source": [
        "drive.mount('/content/gdrive')\n"
      ],
      "execution_count": 2,
      "outputs": [
        {
          "output_type": "stream",
          "text": [
            "Mounted at /content/gdrive\n"
          ],
          "name": "stdout"
        }
      ]
    },
    {
      "cell_type": "code",
      "metadata": {
        "id": "w-WRFzh-j6K8"
      },
      "source": [
        "#Reading data\n",
        "df = pd.read_csv('/content/gdrive/MyDrive/ML/ratings_Electronics (1).csv')"
      ],
      "execution_count": 3,
      "outputs": []
    },
    {
      "cell_type": "code",
      "metadata": {
        "colab": {
          "base_uri": "https://localhost:8080/",
          "height": 419
        },
        "id": "0TRQPIswkFjV",
        "outputId": "b29b7181-7b6e-479e-a16a-c51711d1f90c"
      },
      "source": [
        "df"
      ],
      "execution_count": 4,
      "outputs": [
        {
          "output_type": "execute_result",
          "data": {
            "text/html": [
              "<div>\n",
              "<style scoped>\n",
              "    .dataframe tbody tr th:only-of-type {\n",
              "        vertical-align: middle;\n",
              "    }\n",
              "\n",
              "    .dataframe tbody tr th {\n",
              "        vertical-align: top;\n",
              "    }\n",
              "\n",
              "    .dataframe thead th {\n",
              "        text-align: right;\n",
              "    }\n",
              "</style>\n",
              "<table border=\"1\" class=\"dataframe\">\n",
              "  <thead>\n",
              "    <tr style=\"text-align: right;\">\n",
              "      <th></th>\n",
              "      <th>AKM1MP6P0OYPR</th>\n",
              "      <th>0132793040</th>\n",
              "      <th>5.0</th>\n",
              "      <th>1365811200</th>\n",
              "    </tr>\n",
              "  </thead>\n",
              "  <tbody>\n",
              "    <tr>\n",
              "      <th>0</th>\n",
              "      <td>A2CX7LUOHB2NDG</td>\n",
              "      <td>0321732944</td>\n",
              "      <td>5.0</td>\n",
              "      <td>1341100800</td>\n",
              "    </tr>\n",
              "    <tr>\n",
              "      <th>1</th>\n",
              "      <td>A2NWSAGRHCP8N5</td>\n",
              "      <td>0439886341</td>\n",
              "      <td>1.0</td>\n",
              "      <td>1367193600</td>\n",
              "    </tr>\n",
              "    <tr>\n",
              "      <th>2</th>\n",
              "      <td>A2WNBOD3WNDNKT</td>\n",
              "      <td>0439886341</td>\n",
              "      <td>3.0</td>\n",
              "      <td>1374451200</td>\n",
              "    </tr>\n",
              "    <tr>\n",
              "      <th>3</th>\n",
              "      <td>A1GI0U4ZRJA8WN</td>\n",
              "      <td>0439886341</td>\n",
              "      <td>1.0</td>\n",
              "      <td>1334707200</td>\n",
              "    </tr>\n",
              "    <tr>\n",
              "      <th>4</th>\n",
              "      <td>A1QGNMC6O1VW39</td>\n",
              "      <td>0511189877</td>\n",
              "      <td>5.0</td>\n",
              "      <td>1397433600</td>\n",
              "    </tr>\n",
              "    <tr>\n",
              "      <th>...</th>\n",
              "      <td>...</td>\n",
              "      <td>...</td>\n",
              "      <td>...</td>\n",
              "      <td>...</td>\n",
              "    </tr>\n",
              "    <tr>\n",
              "      <th>7824476</th>\n",
              "      <td>A2YZI3C9MOHC0L</td>\n",
              "      <td>BT008UKTMW</td>\n",
              "      <td>5.0</td>\n",
              "      <td>1396569600</td>\n",
              "    </tr>\n",
              "    <tr>\n",
              "      <th>7824477</th>\n",
              "      <td>A322MDK0M89RHN</td>\n",
              "      <td>BT008UKTMW</td>\n",
              "      <td>5.0</td>\n",
              "      <td>1313366400</td>\n",
              "    </tr>\n",
              "    <tr>\n",
              "      <th>7824478</th>\n",
              "      <td>A1MH90R0ADMIK0</td>\n",
              "      <td>BT008UKTMW</td>\n",
              "      <td>4.0</td>\n",
              "      <td>1404172800</td>\n",
              "    </tr>\n",
              "    <tr>\n",
              "      <th>7824479</th>\n",
              "      <td>A10M2KEFPEQDHN</td>\n",
              "      <td>BT008UKTMW</td>\n",
              "      <td>4.0</td>\n",
              "      <td>1297555200</td>\n",
              "    </tr>\n",
              "    <tr>\n",
              "      <th>7824480</th>\n",
              "      <td>A2G81TMIOIDEQQ</td>\n",
              "      <td>BT008V9J9U</td>\n",
              "      <td>5.0</td>\n",
              "      <td>1312675200</td>\n",
              "    </tr>\n",
              "  </tbody>\n",
              "</table>\n",
              "<p>7824481 rows × 4 columns</p>\n",
              "</div>"
            ],
            "text/plain": [
              "          AKM1MP6P0OYPR  0132793040  5.0  1365811200\n",
              "0        A2CX7LUOHB2NDG  0321732944  5.0  1341100800\n",
              "1        A2NWSAGRHCP8N5  0439886341  1.0  1367193600\n",
              "2        A2WNBOD3WNDNKT  0439886341  3.0  1374451200\n",
              "3        A1GI0U4ZRJA8WN  0439886341  1.0  1334707200\n",
              "4        A1QGNMC6O1VW39  0511189877  5.0  1397433600\n",
              "...                 ...         ...  ...         ...\n",
              "7824476  A2YZI3C9MOHC0L  BT008UKTMW  5.0  1396569600\n",
              "7824477  A322MDK0M89RHN  BT008UKTMW  5.0  1313366400\n",
              "7824478  A1MH90R0ADMIK0  BT008UKTMW  4.0  1404172800\n",
              "7824479  A10M2KEFPEQDHN  BT008UKTMW  4.0  1297555200\n",
              "7824480  A2G81TMIOIDEQQ  BT008V9J9U  5.0  1312675200\n",
              "\n",
              "[7824481 rows x 4 columns]"
            ]
          },
          "metadata": {
            "tags": []
          },
          "execution_count": 4
        }
      ]
    },
    {
      "cell_type": "code",
      "metadata": {
        "id": "Jm0k1Z13kHuJ"
      },
      "source": [
        "#Renaming dataframe columns to make the data easier to work with\n",
        "df = df.rename(columns={\"AKM1MP6P0OYPR\":\"userId\",\"0132793040\":\"productId\",\"5.0\":\"rating\",\"1365811200\":\"timeStamp\"})"
      ],
      "execution_count": 5,
      "outputs": []
    },
    {
      "cell_type": "code",
      "metadata": {
        "colab": {
          "base_uri": "https://localhost:8080/",
          "height": 204
        },
        "id": "Ncxd88BVkLnJ",
        "outputId": "ee10d8b9-219a-4bea-c570-e12d8f4b601b"
      },
      "source": [
        "df.head()"
      ],
      "execution_count": 8,
      "outputs": [
        {
          "output_type": "execute_result",
          "data": {
            "text/html": [
              "<div>\n",
              "<style scoped>\n",
              "    .dataframe tbody tr th:only-of-type {\n",
              "        vertical-align: middle;\n",
              "    }\n",
              "\n",
              "    .dataframe tbody tr th {\n",
              "        vertical-align: top;\n",
              "    }\n",
              "\n",
              "    .dataframe thead th {\n",
              "        text-align: right;\n",
              "    }\n",
              "</style>\n",
              "<table border=\"1\" class=\"dataframe\">\n",
              "  <thead>\n",
              "    <tr style=\"text-align: right;\">\n",
              "      <th></th>\n",
              "      <th>userId</th>\n",
              "      <th>productId</th>\n",
              "      <th>rating</th>\n",
              "      <th>timeStamp</th>\n",
              "    </tr>\n",
              "  </thead>\n",
              "  <tbody>\n",
              "    <tr>\n",
              "      <th>0</th>\n",
              "      <td>A2CX7LUOHB2NDG</td>\n",
              "      <td>0321732944</td>\n",
              "      <td>5.0</td>\n",
              "      <td>1341100800</td>\n",
              "    </tr>\n",
              "    <tr>\n",
              "      <th>1</th>\n",
              "      <td>A2NWSAGRHCP8N5</td>\n",
              "      <td>0439886341</td>\n",
              "      <td>1.0</td>\n",
              "      <td>1367193600</td>\n",
              "    </tr>\n",
              "    <tr>\n",
              "      <th>2</th>\n",
              "      <td>A2WNBOD3WNDNKT</td>\n",
              "      <td>0439886341</td>\n",
              "      <td>3.0</td>\n",
              "      <td>1374451200</td>\n",
              "    </tr>\n",
              "    <tr>\n",
              "      <th>3</th>\n",
              "      <td>A1GI0U4ZRJA8WN</td>\n",
              "      <td>0439886341</td>\n",
              "      <td>1.0</td>\n",
              "      <td>1334707200</td>\n",
              "    </tr>\n",
              "    <tr>\n",
              "      <th>4</th>\n",
              "      <td>A1QGNMC6O1VW39</td>\n",
              "      <td>0511189877</td>\n",
              "      <td>5.0</td>\n",
              "      <td>1397433600</td>\n",
              "    </tr>\n",
              "  </tbody>\n",
              "</table>\n",
              "</div>"
            ],
            "text/plain": [
              "           userId   productId  rating   timeStamp\n",
              "0  A2CX7LUOHB2NDG  0321732944     5.0  1341100800\n",
              "1  A2NWSAGRHCP8N5  0439886341     1.0  1367193600\n",
              "2  A2WNBOD3WNDNKT  0439886341     3.0  1374451200\n",
              "3  A1GI0U4ZRJA8WN  0439886341     1.0  1334707200\n",
              "4  A1QGNMC6O1VW39  0511189877     5.0  1397433600"
            ]
          },
          "metadata": {
            "tags": []
          },
          "execution_count": 8
        }
      ]
    },
    {
      "cell_type": "code",
      "metadata": {
        "colab": {
          "base_uri": "https://localhost:8080/"
        },
        "id": "7c7woNeBkOsV",
        "outputId": "4c53c2d7-d782-4c3b-e0bb-c7bfd5fc23fe"
      },
      "source": [
        "type(df.head(1))"
      ],
      "execution_count": 9,
      "outputs": [
        {
          "output_type": "execute_result",
          "data": {
            "text/plain": [
              "pandas.core.frame.DataFrame"
            ]
          },
          "metadata": {
            "tags": []
          },
          "execution_count": 9
        }
      ]
    },
    {
      "cell_type": "code",
      "metadata": {
        "colab": {
          "base_uri": "https://localhost:8080/"
        },
        "id": "snYn3cIYkZfb",
        "outputId": "0a921826-09ba-420d-95be-76a7e5e9cc3c"
      },
      "source": [
        "len(df['productId'].unique())"
      ],
      "execution_count": 10,
      "outputs": [
        {
          "output_type": "execute_result",
          "data": {
            "text/plain": [
              "476001"
            ]
          },
          "metadata": {
            "tags": []
          },
          "execution_count": 10
        }
      ]
    },
    {
      "cell_type": "markdown",
      "metadata": {
        "id": "elB12iRMk813"
      },
      "source": [
        "Hashing to combat alpha numeric values that are not accepted by pytorch long tensor\n"
      ]
    },
    {
      "cell_type": "code",
      "metadata": {
        "id": "730jHufYby_Y"
      },
      "source": [
        "#trash = {u: n for n,u in enumerate(df['userId'].unique())}"
      ],
      "execution_count": null,
      "outputs": []
    },
    {
      "cell_type": "code",
      "metadata": {
        "id": "oD7eJj0-nM1i"
      },
      "source": [
        "# map = []\n",
        "\n",
        "# map.append(1)\n",
        "# map.append((2,3))\n",
        "# mapped = {}\n"
      ],
      "execution_count": null,
      "outputs": []
    },
    {
      "cell_type": "code",
      "metadata": {
        "id": "W11cQ8QsMZe2"
      },
      "source": [
        "# type(df['userId'].tolist())"
      ],
      "execution_count": null,
      "outputs": []
    },
    {
      "cell_type": "code",
      "metadata": {
        "id": "92JaBOcAjYWo"
      },
      "source": [
        "\n",
        "\n",
        "# def userIdtoNum(user_idslist):\n",
        "#   temp = 0\n",
        "#   user_ids = user_idslist.tolist()\n",
        "#   count = 0\n",
        "#   list_count = []\n",
        "#   list_users = []\n",
        "#   mapped = []\n",
        "#   # print(mapped)\n",
        "\n",
        "#   # for i in mapped:\n",
        "#   #   print(i[0], i[1])\n",
        "\n",
        "#   for i in range(len(user_ids)):\n",
        "#     if i==0:\n",
        "#       list_count.append(count)\n",
        "#       list_users.append(user_ids[i])\n",
        "#       # print(list_count)\n",
        "#       # print(list_users)\n",
        "#       # print(mapped)\n",
        "#       prev = user_ids[i]\n",
        "\n",
        "\n",
        "#     else:\n",
        "#       curr = []\n",
        "#       curr.append(user_ids[i])\n",
        "#       counter_available = Counter(list_users)\n",
        "#       counter_needed = Counter(curr)\n",
        "#       out = counter_needed - counter_available\n",
        "#       if not list(out.elements()):\n",
        "#         count += 1\n",
        "#         list_count.append(count)\n",
        "#         # print(list_count)\n",
        "#         list_users.append(curr)\n",
        "#         # print(list_users)\n",
        "#       else:\n",
        "#         temp += 1\n",
        "#         list_count.append(count)\n",
        "#         list_users.append(curr)\n",
        "      \n",
        "#       # curr = user_ids[i]\n",
        "\n",
        "#       # for cnt,users in list(zip(list_count,list_users)):\n",
        "#       #   if users == curr:\n",
        "#       #     temp += 1\n",
        "#       #     list_count.append(cnt)\n",
        "#       #     list_users.append(curr)\n",
        "#       #     break\n",
        "#       # else:\n",
        "#       #   count += 1\n",
        "#       #   list_count.append(count)\n",
        "#       #   # print(list_count)\n",
        "#       #   list_users.append(curr)\n",
        "#       #   # print(list_users)\n",
        "#       prev = curr\n",
        "\n",
        "#   mapped = list(zip(list_count,list_users))\n",
        "#   print(temp)\n",
        "#   return mapped\n",
        "#   pass\n",
        "\n"
      ],
      "execution_count": null,
      "outputs": []
    },
    {
      "cell_type": "code",
      "metadata": {
        "id": "oEAEyX_Eq93z"
      },
      "source": [
        "q = []\n",
        "p = df['userId'].tolist()\n",
        "for i in p:\n",
        "  q.append(hash(i))\n",
        "  \n",
        "df_col = pd.DataFrame({'userHashed':q})\n",
        "\n",
        "df['userId'] = df_col['userHashed']"
      ],
      "execution_count": 6,
      "outputs": []
    },
    {
      "cell_type": "code",
      "metadata": {
        "id": "8ZLB-fHJ30hh"
      },
      "source": [
        "r = []\n",
        "s = df['productId'].tolist()\n",
        "for i in s:\n",
        "   r.append(hash(i))\n",
        "  \n",
        "df_col2 = pd.DataFrame({'productHashed':r})\n",
        "df['productId'] = df_col2['productHashed']"
      ],
      "execution_count": 7,
      "outputs": []
    },
    {
      "cell_type": "code",
      "metadata": {
        "id": "mqJnUhnNeFau",
        "colab": {
          "base_uri": "https://localhost:8080/"
        },
        "outputId": "51d9f50c-4166-499b-d4e3-40edcf627056"
      },
      "source": [
        "print(df.head())"
      ],
      "execution_count": 13,
      "outputs": [
        {
          "output_type": "stream",
          "text": [
            "                userId            productId  rating   timeStamp\n",
            "0  3094524065642534589  7228691163309702983     5.0  1341100800\n",
            "1 -7357476511047441823  4203638183892874418     1.0  1367193600\n",
            "2  3255321322911387393  4203638183892874418     3.0  1374451200\n",
            "3  2181845487306584024  4203638183892874418     1.0  1334707200\n",
            "4  4510243544807772982 -6327205876201498854     5.0  1397433600\n"
          ],
          "name": "stdout"
        }
      ]
    },
    {
      "cell_type": "code",
      "metadata": {
        "colab": {
          "base_uri": "https://localhost:8080/"
        },
        "id": "ogPfeSegrGfo",
        "outputId": "27259a63-1e30-4b0a-c9de-1b47d7d9c5e0"
      },
      "source": [
        "# print(df.head())"
      ],
      "execution_count": null,
      "outputs": [
        {
          "output_type": "stream",
          "text": [
            "0    2928384221098543557\n",
            "1    3967222656333255743\n",
            "2    3967222656333255743\n",
            "3    3967222656333255743\n",
            "4    -233870297543730163\n",
            "Name: productId, dtype: int64\n"
          ],
          "name": "stdout"
        }
      ]
    },
    {
      "cell_type": "code",
      "metadata": {
        "id": "LhrOUhNDsA0B"
      },
      "source": [
        "# df_100k = df.sample(n=100000)\n"
      ],
      "execution_count": null,
      "outputs": []
    },
    {
      "cell_type": "code",
      "metadata": {
        "colab": {
          "base_uri": "https://localhost:8080/"
        },
        "id": "kfepjvciZM71",
        "outputId": "b8bda332-9c6a-4349-86e2-229c6db75619"
      },
      "source": [
        "# torch.LongTensor((df_100k[['userId', 'productId']].values))"
      ],
      "execution_count": null,
      "outputs": [
        {
          "output_type": "execute_result",
          "data": {
            "text/plain": [
              "tensor([[ 3745394179866338730,  4554702336353503915],\n",
              "        [ 7648718285032043986, -5293317672808570896],\n",
              "        [ 2407203665604160630, -6284330153785957090],\n",
              "        ...,\n",
              "        [-1354225317536763324, -1542084943365013846],\n",
              "        [ -989104399912570678,  4198949797512024165],\n",
              "        [ 2534438094971252782, -4989503219565073604]])"
            ]
          },
          "metadata": {
            "tags": []
          },
          "execution_count": 81
        }
      ]
    },
    {
      "cell_type": "code",
      "metadata": {
        "colab": {
          "base_uri": "https://localhost:8080/"
        },
        "id": "sZDwkwPtZOhk",
        "outputId": "5d0c4076-28dd-4335-cea4-58a31d6073d8"
      },
      "source": [
        "# df_100k['userId']"
      ],
      "execution_count": null,
      "outputs": [
        {
          "output_type": "execute_result",
          "data": {
            "text/plain": [
              "5033467    3745394179866338730\n",
              "323687     7648718285032043986\n",
              "4527720    2407203665604160630\n",
              "4571079    7074620996651281036\n",
              "4325424   -8427743009652482748\n",
              "                  ...         \n",
              "2991321    7004361719798029246\n",
              "3247997    6061416206100637638\n",
              "7521897   -1354225317536763324\n",
              "832255     -989104399912570678\n",
              "1151105    2534438094971252782\n",
              "Name: userId, Length: 100000, dtype: int64"
            ]
          },
          "metadata": {
            "tags": []
          },
          "execution_count": 84
        }
      ]
    },
    {
      "cell_type": "code",
      "metadata": {
        "id": "hzajMH4aZooc"
      },
      "source": [
        "class ProductDataset(torch.utils.data.Dataset):\n",
        "    def __init__(self, df):\n",
        "        u2n = { u: n for n, u in enumerate(df['userId'].unique()) }\n",
        "        p2n = { p: n for n, p in enumerate(df['productId'].unique()) }\n",
        "        df['userId'] = df['userId'].apply(lambda u: u2n[u])\n",
        "        df['productId'] = df['productId'].apply(lambda p: p2n[p])\n",
        "        self.coords = torch.LongTensor(df[['userId','productId']].values)\n",
        "        self.ratings = torch.FloatTensor(df['rating'].values)\n",
        "        self.n_users = df['userId'].nunique()\n",
        "        self.n_products = df['productId'].nunique()\n",
        "\n",
        "    def __len__(self):\n",
        "        return len(self.coords)\n",
        "\n",
        "    def __getitem__(self, i):\n",
        "        return (self.coords[i], self.ratings[i])"
      ],
      "execution_count": 8,
      "outputs": []
    },
    {
      "cell_type": "code",
      "metadata": {
        "id": "Ip8KCtcdZvev"
      },
      "source": [
        "#Creating train and test datasets\n",
        "# ds_full = ProductDataset(df_100k)\n",
        "\n",
        "# n_train = int(0.8 * len(ds_full))\n",
        "# n_test = len(ds_full) - n_train\n",
        "# rng = torch.Generator().manual_seed(291)\n",
        "# ds_train, ds_test = torch.utils.data.random_split(ds_full, [n_train, n_test], rng)"
      ],
      "execution_count": null,
      "outputs": []
    },
    {
      "cell_type": "code",
      "metadata": {
        "id": "o84JKQ2OaMNk"
      },
      "source": [
        "class ProductRecommendation(nn.Module):\n",
        "    def __init__(self, n_users, n_products, emb_dim):\n",
        "        super(ProductRecommendation, self).__init__()\n",
        "        self.user_emb = nn.Embedding(n_users, emb_dim)\n",
        "        self.user_bias = nn.Embedding(n_users, 1)\n",
        "        self.product_emb = nn.Embedding(n_products, emb_dim)\n",
        "        self.product_bias = nn.Embedding(n_products, 1)\n",
        "        nn.init.xavier_uniform_(self.user_emb.weight)\n",
        "        nn.init.xavier_uniform_(self.product_emb.weight)\n",
        "        nn.init.zeros_(self.user_bias.weight)\n",
        "        nn.init.zeros_(self.product_bias.weight)\n",
        "    \n",
        "    def forward(self, samples):\n",
        "        users = self.user_emb(samples[:,0])\n",
        "        products = self.product_emb(samples[:,1])\n",
        "        dot = (users * products).sum(1)\n",
        "        user_b = self.user_bias(samples[:,0]).squeeze()\n",
        "        product_b = self.product_bias(samples[:,1]).squeeze()\n",
        "        return torch.sigmoid((dot + user_b + product_b))*5.0"
      ],
      "execution_count": 9,
      "outputs": []
    },
    {
      "cell_type": "code",
      "metadata": {
        "id": "QUNB2uESbH7S"
      },
      "source": [
        "device = torch.device('cuda')\n",
        "\n",
        "def run_test(model, ldr, crit):\n",
        "    total_loss, total_count = 0, 0\n",
        "    model.eval()\n",
        "    tq_iters = tqdm(ldr, leave=False, desc='test iter')\n",
        "    with torch.no_grad():\n",
        "        for coords, labels in tq_iters:\n",
        "            coords, labels = coords.to(device), labels.to(device)\n",
        "            preds = model(coords)\n",
        "            loss = crit(preds, labels)\n",
        "            total_loss += loss.item() * labels.size(0)\n",
        "            total_count += labels.size(0)\n",
        "            tq_iters.set_postfix({'loss': total_loss/total_count}, refresh=True)\n",
        "    return total_loss / total_count\n",
        "\n",
        "def run_train(model, ldr, crit, opt, sched):\n",
        "    model.train()\n",
        "    total_loss, total_count = 0, 0\n",
        "    tq_iters = tqdm(ldr, leave=False, desc='train iter')\n",
        "    for (coords, labels) in tq_iters:\n",
        "        opt.zero_grad()\n",
        "        coords, labels = coords.to(device), labels.to(device)\n",
        "        preds = model(coords)\n",
        "        loss = crit(preds, labels)\n",
        "        loss.backward()\n",
        "        opt.step()\n",
        "        sched.step()\n",
        "        total_loss += loss.item() * labels.size(0)\n",
        "        total_count += labels.size(0)\n",
        "        tq_iters.set_postfix({'loss': total_loss/total_count}, refresh=True)\n",
        "    return total_loss / total_count\n",
        "\n",
        "def run_all(model, ldr_train, ldr_test, crit, opt, sched, n_epochs=10):\n",
        "    best_loss = np.inf\n",
        "    tq_epochs = tqdm(range(n_epochs), desc='epochs', unit='ep')\n",
        "    for epoch in tq_epochs:\n",
        "        train_loss = run_train(model, ldr_train, crit, opt, sched)\n",
        "        test_loss = run_test(model, ldr_test, crit)\n",
        "        tqdm.write(f'epoch {epoch}   train loss {train_loss:.6f}    test loss {test_loss:.6f}')\n",
        "        if test_loss < best_loss:\n",
        "            best_loss = test_loss\n",
        "            tq_epochs.set_postfix({'bE': epoch, 'bL': best_loss}, refresh=True)"
      ],
      "execution_count": 10,
      "outputs": []
    },
    {
      "cell_type": "code",
      "metadata": {
        "id": "wireless-chambers",
        "colab": {
          "base_uri": "https://localhost:8080/",
          "height": 405,
          "referenced_widgets": [
            "fccb0745a5ad4b1d96ad73952d69a830",
            "54f767092f8148fe8690d6dfb153c7c8",
            "90aeb00194554e3c93e85bda3aa26947",
            "b2174770d9064db283f08f33bdd01b36",
            "87b3e8b78fbb416ea4975bbcc5805755",
            "e0d7f3405c0649c5a60951a622375214",
            "3bf3fbe19bea4004b6f5cadba7c99afc",
            "ac022326627846289350b037b275b86f",
            "63f16d7a999647b7adedccd0884cdab2",
            "4cfa588385ef4e89905186316e5a514d",
            "16daa66c8be94727a00134477fbc2855",
            "a39fdb2379c54a59a343040738fd9f6c",
            "1e9dff329eb548d3811977c68203242e",
            "eac806a00bfe499984afdc73e3825740",
            "cf26a9160a93496ea697c2bcb71bc735",
            "57f469429fbf42729c1a5ea1a8e5bfc4"
          ]
        },
        "outputId": "0a32a6f6-b977-42e8-e4a3-b0fec551fb3a"
      },
      "source": [
        "\n",
        "# df_500k = df\n",
        "\n",
        "\n",
        "ds_full = ProductDataset(df)\n",
        "\n",
        "n_train = int(0.8 * len(ds_full))\n",
        "n_test = len(ds_full) - n_train\n",
        "rng = torch.Generator().manual_seed(291)\n",
        "ds_train, ds_test = torch.utils.data.random_split(ds_full, [n_train, n_test], rng)\n",
        "\n",
        "model = ProductRecommendation(ds_full.n_users, ds_full.n_products, 20)\n",
        "model.to(device)\n",
        "\n",
        "\n",
        "ldr_train = torch.utils.data.DataLoader(ds_train, batch_size=32, shuffle=True)\n",
        "ldr_test = torch.utils.data.DataLoader(ds_test, batch_size=32)\n",
        "\n",
        "n_epochs = 5000\n",
        "\n",
        "crit = nn.MSELoss().to(device)\n",
        "opt = optim.SGD(model.parameters(), lr=1e-6, momentum=0.9)\n",
        "sched = optim.lr_scheduler.OneCycleLR(opt, max_lr=0.1, steps_per_epoch=len(ldr_train), epochs=n_epochs)\n",
        "\n",
        "run_all(model, ldr_train, ldr_test, crit, opt, sched, n_epochs)"
      ],
      "execution_count": 12,
      "outputs": [
        {
          "output_type": "display_data",
          "data": {
            "application/vnd.jupyter.widget-view+json": {
              "model_id": "fccb0745a5ad4b1d96ad73952d69a830",
              "version_minor": 0,
              "version_major": 2
            },
            "text/plain": [
              "HBox(children=(FloatProgress(value=0.0, description='epochs', max=5000.0, style=ProgressStyle(description_widt…"
            ]
          },
          "metadata": {
            "tags": []
          }
        },
        {
          "output_type": "display_data",
          "data": {
            "application/vnd.jupyter.widget-view+json": {
              "model_id": "63f16d7a999647b7adedccd0884cdab2",
              "version_minor": 0,
              "version_major": 2
            },
            "text/plain": [
              "HBox(children=(FloatProgress(value=0.0, description='train iter', max=195612.0, style=ProgressStyle(descriptio…"
            ]
          },
          "metadata": {
            "tags": []
          }
        },
        {
          "output_type": "error",
          "ename": "KeyboardInterrupt",
          "evalue": "ignored",
          "traceback": [
            "\u001b[0;31m---------------------------------------------------------------------------\u001b[0m",
            "\u001b[0;31mKeyboardInterrupt\u001b[0m                         Traceback (most recent call last)",
            "\u001b[0;32m<ipython-input-12-75e917a59c52>\u001b[0m in \u001b[0;36m<module>\u001b[0;34m()\u001b[0m\n\u001b[1;32m     23\u001b[0m \u001b[0msched\u001b[0m \u001b[0;34m=\u001b[0m \u001b[0moptim\u001b[0m\u001b[0;34m.\u001b[0m\u001b[0mlr_scheduler\u001b[0m\u001b[0;34m.\u001b[0m\u001b[0mOneCycleLR\u001b[0m\u001b[0;34m(\u001b[0m\u001b[0mopt\u001b[0m\u001b[0;34m,\u001b[0m \u001b[0mmax_lr\u001b[0m\u001b[0;34m=\u001b[0m\u001b[0;36m0.1\u001b[0m\u001b[0;34m,\u001b[0m \u001b[0msteps_per_epoch\u001b[0m\u001b[0;34m=\u001b[0m\u001b[0mlen\u001b[0m\u001b[0;34m(\u001b[0m\u001b[0mldr_train\u001b[0m\u001b[0;34m)\u001b[0m\u001b[0;34m,\u001b[0m \u001b[0mepochs\u001b[0m\u001b[0;34m=\u001b[0m\u001b[0mn_epochs\u001b[0m\u001b[0;34m)\u001b[0m\u001b[0;34m\u001b[0m\u001b[0;34m\u001b[0m\u001b[0m\n\u001b[1;32m     24\u001b[0m \u001b[0;34m\u001b[0m\u001b[0m\n\u001b[0;32m---> 25\u001b[0;31m \u001b[0mrun_all\u001b[0m\u001b[0;34m(\u001b[0m\u001b[0mmodel\u001b[0m\u001b[0;34m,\u001b[0m \u001b[0mldr_train\u001b[0m\u001b[0;34m,\u001b[0m \u001b[0mldr_test\u001b[0m\u001b[0;34m,\u001b[0m \u001b[0mcrit\u001b[0m\u001b[0;34m,\u001b[0m \u001b[0mopt\u001b[0m\u001b[0;34m,\u001b[0m \u001b[0msched\u001b[0m\u001b[0;34m,\u001b[0m \u001b[0mn_epochs\u001b[0m\u001b[0;34m)\u001b[0m\u001b[0;34m\u001b[0m\u001b[0;34m\u001b[0m\u001b[0m\n\u001b[0m",
            "\u001b[0;32m<ipython-input-10-db446ca09e52>\u001b[0m in \u001b[0;36mrun_all\u001b[0;34m(model, ldr_train, ldr_test, crit, opt, sched, n_epochs)\u001b[0m\n\u001b[1;32m     36\u001b[0m     \u001b[0mtq_epochs\u001b[0m \u001b[0;34m=\u001b[0m \u001b[0mtqdm\u001b[0m\u001b[0;34m(\u001b[0m\u001b[0mrange\u001b[0m\u001b[0;34m(\u001b[0m\u001b[0mn_epochs\u001b[0m\u001b[0;34m)\u001b[0m\u001b[0;34m,\u001b[0m \u001b[0mdesc\u001b[0m\u001b[0;34m=\u001b[0m\u001b[0;34m'epochs'\u001b[0m\u001b[0;34m,\u001b[0m \u001b[0munit\u001b[0m\u001b[0;34m=\u001b[0m\u001b[0;34m'ep'\u001b[0m\u001b[0;34m)\u001b[0m\u001b[0;34m\u001b[0m\u001b[0;34m\u001b[0m\u001b[0m\n\u001b[1;32m     37\u001b[0m     \u001b[0;32mfor\u001b[0m \u001b[0mepoch\u001b[0m \u001b[0;32min\u001b[0m \u001b[0mtq_epochs\u001b[0m\u001b[0;34m:\u001b[0m\u001b[0;34m\u001b[0m\u001b[0;34m\u001b[0m\u001b[0m\n\u001b[0;32m---> 38\u001b[0;31m         \u001b[0mtrain_loss\u001b[0m \u001b[0;34m=\u001b[0m \u001b[0mrun_train\u001b[0m\u001b[0;34m(\u001b[0m\u001b[0mmodel\u001b[0m\u001b[0;34m,\u001b[0m \u001b[0mldr_train\u001b[0m\u001b[0;34m,\u001b[0m \u001b[0mcrit\u001b[0m\u001b[0;34m,\u001b[0m \u001b[0mopt\u001b[0m\u001b[0;34m,\u001b[0m \u001b[0msched\u001b[0m\u001b[0;34m)\u001b[0m\u001b[0;34m\u001b[0m\u001b[0;34m\u001b[0m\u001b[0m\n\u001b[0m\u001b[1;32m     39\u001b[0m         \u001b[0mtest_loss\u001b[0m \u001b[0;34m=\u001b[0m \u001b[0mrun_test\u001b[0m\u001b[0;34m(\u001b[0m\u001b[0mmodel\u001b[0m\u001b[0;34m,\u001b[0m \u001b[0mldr_test\u001b[0m\u001b[0;34m,\u001b[0m \u001b[0mcrit\u001b[0m\u001b[0;34m)\u001b[0m\u001b[0;34m\u001b[0m\u001b[0;34m\u001b[0m\u001b[0m\n\u001b[1;32m     40\u001b[0m         \u001b[0mtqdm\u001b[0m\u001b[0;34m.\u001b[0m\u001b[0mwrite\u001b[0m\u001b[0;34m(\u001b[0m\u001b[0;34mf'epoch {epoch}   train loss {train_loss:.6f}    test loss {test_loss:.6f}'\u001b[0m\u001b[0;34m)\u001b[0m\u001b[0;34m\u001b[0m\u001b[0;34m\u001b[0m\u001b[0m\n",
            "\u001b[0;32m<ipython-input-10-db446ca09e52>\u001b[0m in \u001b[0;36mrun_train\u001b[0;34m(model, ldr, crit, opt, sched)\u001b[0m\n\u001b[1;32m     21\u001b[0m     \u001b[0;32mfor\u001b[0m \u001b[0;34m(\u001b[0m\u001b[0mcoords\u001b[0m\u001b[0;34m,\u001b[0m \u001b[0mlabels\u001b[0m\u001b[0;34m)\u001b[0m \u001b[0;32min\u001b[0m \u001b[0mtq_iters\u001b[0m\u001b[0;34m:\u001b[0m\u001b[0;34m\u001b[0m\u001b[0;34m\u001b[0m\u001b[0m\n\u001b[1;32m     22\u001b[0m         \u001b[0mopt\u001b[0m\u001b[0;34m.\u001b[0m\u001b[0mzero_grad\u001b[0m\u001b[0;34m(\u001b[0m\u001b[0;34m)\u001b[0m\u001b[0;34m\u001b[0m\u001b[0;34m\u001b[0m\u001b[0m\n\u001b[0;32m---> 23\u001b[0;31m         \u001b[0mcoords\u001b[0m\u001b[0;34m,\u001b[0m \u001b[0mlabels\u001b[0m \u001b[0;34m=\u001b[0m \u001b[0mcoords\u001b[0m\u001b[0;34m.\u001b[0m\u001b[0mto\u001b[0m\u001b[0;34m(\u001b[0m\u001b[0mdevice\u001b[0m\u001b[0;34m)\u001b[0m\u001b[0;34m,\u001b[0m \u001b[0mlabels\u001b[0m\u001b[0;34m.\u001b[0m\u001b[0mto\u001b[0m\u001b[0;34m(\u001b[0m\u001b[0mdevice\u001b[0m\u001b[0;34m)\u001b[0m\u001b[0;34m\u001b[0m\u001b[0;34m\u001b[0m\u001b[0m\n\u001b[0m\u001b[1;32m     24\u001b[0m         \u001b[0mpreds\u001b[0m \u001b[0;34m=\u001b[0m \u001b[0mmodel\u001b[0m\u001b[0;34m(\u001b[0m\u001b[0mcoords\u001b[0m\u001b[0;34m)\u001b[0m\u001b[0;34m\u001b[0m\u001b[0;34m\u001b[0m\u001b[0m\n\u001b[1;32m     25\u001b[0m         \u001b[0mloss\u001b[0m \u001b[0;34m=\u001b[0m \u001b[0mcrit\u001b[0m\u001b[0;34m(\u001b[0m\u001b[0mpreds\u001b[0m\u001b[0;34m,\u001b[0m \u001b[0mlabels\u001b[0m\u001b[0;34m)\u001b[0m\u001b[0;34m\u001b[0m\u001b[0;34m\u001b[0m\u001b[0m\n",
            "\u001b[0;31mKeyboardInterrupt\u001b[0m: "
          ]
        }
      ]
    },
    {
      "cell_type": "code",
      "metadata": {
        "id": "8Hxydlquw23w"
      },
      "source": [
        "torch.save(model.state_dict(), \"/content/gdrive/MyDrive/ML/params\")"
      ],
      "execution_count": null,
      "outputs": []
    },
    {
      "cell_type": "code",
      "metadata": {
        "id": "SMOji0jp0brM"
      },
      "source": [
        "# !pip install torchensemble\n",
        "# from torchensemble import BaggingClassifier\n",
        "# from torchensemble.utils.logging import set_logger\n",
        "# device = torch.device('cpu')\n",
        "\n",
        "# model_ensemble = BaggingClassifier(\n",
        "#     estimator=model,\n",
        "#     n_estimators=10,\n",
        "#     cuda=False,\n",
        "# )\n",
        "# model_ensemble.to(device)\n",
        "# model_ensemble.set_optimizer('SGD',\n",
        "#                               lr=1e-6,\n",
        "#                               momentum=0.9\n",
        "# )\n",
        "# model_ensemble.fit(train_loader=ldr_train, epochs=5, test_loader=ldr_test) \n",
        "# accuracy = model_ensemble.predict(test_loader=ldr_test)"
      ],
      "execution_count": null,
      "outputs": []
    },
    {
      "cell_type": "code",
      "metadata": {
        "id": "lDX8sXLAUH0A"
      },
      "source": [
        "# model_ensemble.to(device)\n",
        "\n",
        "# ldr_train = torch.utils.data.DataLoader(ds_train, batch_size=32, shuffle=True)\n",
        "# ldr_test = torch.utils.data.DataLoader(ds_test, batch_size=32)\n",
        "\n",
        "# n_epochs = 5\n",
        "\n",
        "# crit = nn.MSELoss().to(device)\n",
        "# opt = optim.SGD(model.parameters(), lr=1e-6, momentum=0.9)\n",
        "# sched = optim.lr_scheduler.OneCycleLR(opt, max_lr=0.1, steps_per_epoch=len(ldr_train), epochs=n_epochs)\n",
        "\n",
        "# run_all(model_ensemble.fit(ldr_train,epochs=5), ldr_train, ldr_test, crit, opt, sched, n_epochs)\n",
        "# model_ensemble.fit(ldr_train,epochs=5)\n",
        "# opt = optim.SGD(model.parameters(), lr=1e-6, momentum=0.9)\n",
        "# sched = optim.lr_scheduler.OneCycleLR(opt, max_lr=0.1, steps_per_epoch=len(ldr_train), epochs=n_epochs)\n",
        "# crit = nn.MSELoss().to(device)\n",
        "# run_all(model_ensemble,ldr_train,ldr_test,crit,opt,sched,n_epochs=5)"
      ],
      "execution_count": null,
      "outputs": []
    },
    {
      "cell_type": "code",
      "metadata": {
        "id": "k_xyGvdpUVd5"
      },
      "source": [
        "# torch.save(model.state_dict(), \"/content/gdrive/MyDrive/ML/params\")"
      ],
      "execution_count": null,
      "outputs": []
    },
    {
      "cell_type": "code",
      "metadata": {
        "id": "-cm-3ezoUV6n",
        "colab": {
          "base_uri": "https://localhost:8080/",
          "height": 359
        },
        "outputId": "b63d4d27-94f2-46c6-ee8f-66eaaa1f2ec2"
      },
      "source": [
        "# df_10 = df.sample(n=10)\n",
        "# df_10"
      ],
      "execution_count": null,
      "outputs": [
        {
          "output_type": "execute_result",
          "data": {
            "text/html": [
              "<div>\n",
              "<style scoped>\n",
              "    .dataframe tbody tr th:only-of-type {\n",
              "        vertical-align: middle;\n",
              "    }\n",
              "\n",
              "    .dataframe tbody tr th {\n",
              "        vertical-align: top;\n",
              "    }\n",
              "\n",
              "    .dataframe thead th {\n",
              "        text-align: right;\n",
              "    }\n",
              "</style>\n",
              "<table border=\"1\" class=\"dataframe\">\n",
              "  <thead>\n",
              "    <tr style=\"text-align: right;\">\n",
              "      <th></th>\n",
              "      <th>userId</th>\n",
              "      <th>productId</th>\n",
              "      <th>rating</th>\n",
              "      <th>timeStamp</th>\n",
              "    </tr>\n",
              "  </thead>\n",
              "  <tbody>\n",
              "    <tr>\n",
              "      <th>7509855</th>\n",
              "      <td>983973915694958604</td>\n",
              "      <td>-6118496346122769748</td>\n",
              "      <td>5.0</td>\n",
              "      <td>1396051200</td>\n",
              "    </tr>\n",
              "    <tr>\n",
              "      <th>5433771</th>\n",
              "      <td>-8200340582553172797</td>\n",
              "      <td>-2426004328992617287</td>\n",
              "      <td>5.0</td>\n",
              "      <td>1341273600</td>\n",
              "    </tr>\n",
              "    <tr>\n",
              "      <th>2970913</th>\n",
              "      <td>-4087721239828602131</td>\n",
              "      <td>-3363225249964807121</td>\n",
              "      <td>5.0</td>\n",
              "      <td>1270598400</td>\n",
              "    </tr>\n",
              "    <tr>\n",
              "      <th>6585150</th>\n",
              "      <td>-5828237825798718144</td>\n",
              "      <td>-5154498351802633617</td>\n",
              "      <td>5.0</td>\n",
              "      <td>1388275200</td>\n",
              "    </tr>\n",
              "    <tr>\n",
              "      <th>1459402</th>\n",
              "      <td>4436744305774423256</td>\n",
              "      <td>3567849539807120695</td>\n",
              "      <td>5.0</td>\n",
              "      <td>1362960000</td>\n",
              "    </tr>\n",
              "    <tr>\n",
              "      <th>966473</th>\n",
              "      <td>2278172338605401606</td>\n",
              "      <td>-7311908809851851840</td>\n",
              "      <td>3.0</td>\n",
              "      <td>1387584000</td>\n",
              "    </tr>\n",
              "    <tr>\n",
              "      <th>974585</th>\n",
              "      <td>6234707495349648</td>\n",
              "      <td>5729682734443307242</td>\n",
              "      <td>5.0</td>\n",
              "      <td>1276300800</td>\n",
              "    </tr>\n",
              "    <tr>\n",
              "      <th>6856791</th>\n",
              "      <td>-2014509671718176939</td>\n",
              "      <td>966491560468669416</td>\n",
              "      <td>5.0</td>\n",
              "      <td>1393286400</td>\n",
              "    </tr>\n",
              "    <tr>\n",
              "      <th>7415058</th>\n",
              "      <td>-5640414658642003187</td>\n",
              "      <td>-7198301951599166732</td>\n",
              "      <td>5.0</td>\n",
              "      <td>1382659200</td>\n",
              "    </tr>\n",
              "    <tr>\n",
              "      <th>6401116</th>\n",
              "      <td>-2478918726768812794</td>\n",
              "      <td>-2657286959899449048</td>\n",
              "      <td>5.0</td>\n",
              "      <td>1376870400</td>\n",
              "    </tr>\n",
              "  </tbody>\n",
              "</table>\n",
              "</div>"
            ],
            "text/plain": [
              "                      userId            productId  rating   timeStamp\n",
              "7509855   983973915694958604 -6118496346122769748     5.0  1396051200\n",
              "5433771 -8200340582553172797 -2426004328992617287     5.0  1341273600\n",
              "2970913 -4087721239828602131 -3363225249964807121     5.0  1270598400\n",
              "6585150 -5828237825798718144 -5154498351802633617     5.0  1388275200\n",
              "1459402  4436744305774423256  3567849539807120695     5.0  1362960000\n",
              "966473   2278172338605401606 -7311908809851851840     3.0  1387584000\n",
              "974585      6234707495349648  5729682734443307242     5.0  1276300800\n",
              "6856791 -2014509671718176939   966491560468669416     5.0  1393286400\n",
              "7415058 -5640414658642003187 -7198301951599166732     5.0  1382659200\n",
              "6401116 -2478918726768812794 -2657286959899449048     5.0  1376870400"
            ]
          },
          "metadata": {
            "tags": []
          },
          "execution_count": 46
        }
      ]
    },
    {
      "cell_type": "code",
      "metadata": {
        "colab": {
          "base_uri": "https://localhost:8080/",
          "height": 204
        },
        "id": "PSvXRaGMqDYr",
        "outputId": "a3604538-9c2b-4e9f-96cf-6cc88787d9fe"
      },
      "source": [
        "# df_5 = df_10.sample(n=5)\n",
        "# df_5"
      ],
      "execution_count": null,
      "outputs": [
        {
          "output_type": "execute_result",
          "data": {
            "text/html": [
              "<div>\n",
              "<style scoped>\n",
              "    .dataframe tbody tr th:only-of-type {\n",
              "        vertical-align: middle;\n",
              "    }\n",
              "\n",
              "    .dataframe tbody tr th {\n",
              "        vertical-align: top;\n",
              "    }\n",
              "\n",
              "    .dataframe thead th {\n",
              "        text-align: right;\n",
              "    }\n",
              "</style>\n",
              "<table border=\"1\" class=\"dataframe\">\n",
              "  <thead>\n",
              "    <tr style=\"text-align: right;\">\n",
              "      <th></th>\n",
              "      <th>userId</th>\n",
              "      <th>productId</th>\n",
              "      <th>rating</th>\n",
              "      <th>timeStamp</th>\n",
              "    </tr>\n",
              "  </thead>\n",
              "  <tbody>\n",
              "    <tr>\n",
              "      <th>7415058</th>\n",
              "      <td>-5640414658642003187</td>\n",
              "      <td>-7198301951599166732</td>\n",
              "      <td>5.0</td>\n",
              "      <td>1382659200</td>\n",
              "    </tr>\n",
              "    <tr>\n",
              "      <th>1459402</th>\n",
              "      <td>4436744305774423256</td>\n",
              "      <td>3567849539807120695</td>\n",
              "      <td>5.0</td>\n",
              "      <td>1362960000</td>\n",
              "    </tr>\n",
              "    <tr>\n",
              "      <th>6585150</th>\n",
              "      <td>-5828237825798718144</td>\n",
              "      <td>-5154498351802633617</td>\n",
              "      <td>5.0</td>\n",
              "      <td>1388275200</td>\n",
              "    </tr>\n",
              "    <tr>\n",
              "      <th>966473</th>\n",
              "      <td>2278172338605401606</td>\n",
              "      <td>-7311908809851851840</td>\n",
              "      <td>3.0</td>\n",
              "      <td>1387584000</td>\n",
              "    </tr>\n",
              "    <tr>\n",
              "      <th>6401116</th>\n",
              "      <td>-2478918726768812794</td>\n",
              "      <td>-2657286959899449048</td>\n",
              "      <td>5.0</td>\n",
              "      <td>1376870400</td>\n",
              "    </tr>\n",
              "  </tbody>\n",
              "</table>\n",
              "</div>"
            ],
            "text/plain": [
              "                      userId            productId  rating   timeStamp\n",
              "7415058 -5640414658642003187 -7198301951599166732     5.0  1382659200\n",
              "1459402  4436744305774423256  3567849539807120695     5.0  1362960000\n",
              "6585150 -5828237825798718144 -5154498351802633617     5.0  1388275200\n",
              "966473   2278172338605401606 -7311908809851851840     3.0  1387584000\n",
              "6401116 -2478918726768812794 -2657286959899449048     5.0  1376870400"
            ]
          },
          "metadata": {
            "tags": []
          },
          "execution_count": 47
        }
      ]
    },
    {
      "cell_type": "code",
      "metadata": {
        "colab": {
          "base_uri": "https://localhost:8080/",
          "height": 204
        },
        "id": "Q1RNgDF0qORA",
        "outputId": "10c28411-b082-4f40-9174-cf976f0bc95d"
      },
      "source": [
        "# df_new = df_10.drop(df_5.index)\n",
        "# df_new"
      ],
      "execution_count": null,
      "outputs": [
        {
          "output_type": "execute_result",
          "data": {
            "text/html": [
              "<div>\n",
              "<style scoped>\n",
              "    .dataframe tbody tr th:only-of-type {\n",
              "        vertical-align: middle;\n",
              "    }\n",
              "\n",
              "    .dataframe tbody tr th {\n",
              "        vertical-align: top;\n",
              "    }\n",
              "\n",
              "    .dataframe thead th {\n",
              "        text-align: right;\n",
              "    }\n",
              "</style>\n",
              "<table border=\"1\" class=\"dataframe\">\n",
              "  <thead>\n",
              "    <tr style=\"text-align: right;\">\n",
              "      <th></th>\n",
              "      <th>userId</th>\n",
              "      <th>productId</th>\n",
              "      <th>rating</th>\n",
              "      <th>timeStamp</th>\n",
              "    </tr>\n",
              "  </thead>\n",
              "  <tbody>\n",
              "    <tr>\n",
              "      <th>7509855</th>\n",
              "      <td>983973915694958604</td>\n",
              "      <td>-6118496346122769748</td>\n",
              "      <td>5.0</td>\n",
              "      <td>1396051200</td>\n",
              "    </tr>\n",
              "    <tr>\n",
              "      <th>5433771</th>\n",
              "      <td>-8200340582553172797</td>\n",
              "      <td>-2426004328992617287</td>\n",
              "      <td>5.0</td>\n",
              "      <td>1341273600</td>\n",
              "    </tr>\n",
              "    <tr>\n",
              "      <th>2970913</th>\n",
              "      <td>-4087721239828602131</td>\n",
              "      <td>-3363225249964807121</td>\n",
              "      <td>5.0</td>\n",
              "      <td>1270598400</td>\n",
              "    </tr>\n",
              "    <tr>\n",
              "      <th>974585</th>\n",
              "      <td>6234707495349648</td>\n",
              "      <td>5729682734443307242</td>\n",
              "      <td>5.0</td>\n",
              "      <td>1276300800</td>\n",
              "    </tr>\n",
              "    <tr>\n",
              "      <th>6856791</th>\n",
              "      <td>-2014509671718176939</td>\n",
              "      <td>966491560468669416</td>\n",
              "      <td>5.0</td>\n",
              "      <td>1393286400</td>\n",
              "    </tr>\n",
              "  </tbody>\n",
              "</table>\n",
              "</div>"
            ],
            "text/plain": [
              "                      userId            productId  rating   timeStamp\n",
              "7509855   983973915694958604 -6118496346122769748     5.0  1396051200\n",
              "5433771 -8200340582553172797 -2426004328992617287     5.0  1341273600\n",
              "2970913 -4087721239828602131 -3363225249964807121     5.0  1270598400\n",
              "974585      6234707495349648  5729682734443307242     5.0  1276300800\n",
              "6856791 -2014509671718176939   966491560468669416     5.0  1393286400"
            ]
          },
          "metadata": {
            "tags": []
          },
          "execution_count": 48
        }
      ]
    }
  ]
}